{
  "nbformat": 4,
  "nbformat_minor": 0,
  "metadata": {
    "colab": {
      "name": "0530",
      "provenance": [],
      "authorship_tag": "ABX9TyOxqYntlbsBWx2gf/0LVUe6",
      "include_colab_link": true
    },
    "kernelspec": {
      "name": "python3",
      "display_name": "Python 3"
    },
    "language_info": {
      "name": "python"
    }
  },
  "cells": [
    {
      "cell_type": "markdown",
      "metadata": {
        "id": "view-in-github",
        "colab_type": "text"
      },
      "source": [
        "<a href=\"https://colab.research.google.com/github/annie410577034/Introduction-to-Computers/blob/main/0530.ipynb\" target=\"_parent\"><img src=\"https://colab.research.google.com/assets/colab-badge.svg\" alt=\"Open In Colab\"/></a>"
      ]
    },
    {
      "cell_type": "code",
      "source": [
        ""
      ],
      "metadata": {
        "id": "ozyxaasr0EAy"
      },
      "execution_count": null,
      "outputs": []
    },
    {
      "cell_type": "code",
      "source": [
        "for i in range (2,10):\n",
        "  for j in range(1,10):\n",
        "    product = i*j\n",
        "    print(\"%d*%d=%2d \" % (i,j,product),end=\"\")\n",
        "  print()"
      ],
      "metadata": {
        "id": "zS22TkSR_pCO",
        "colab": {
          "base_uri": "https://localhost:8080/"
        },
        "outputId": "8eb16225-1950-465b-e518-485804db6473"
      },
      "execution_count": 5,
      "outputs": [
        {
          "output_type": "stream",
          "name": "stdout",
          "text": [
            "2*1= 2 2*2= 4 2*3= 6 2*4= 8 2*5=10 2*6=12 2*7=14 2*8=16 2*9=18 \n",
            "3*1= 3 3*2= 6 3*3= 9 3*4=12 3*5=15 3*6=18 3*7=21 3*8=24 3*9=27 \n",
            "4*1= 4 4*2= 8 4*3=12 4*4=16 4*5=20 4*6=24 4*7=28 4*8=32 4*9=36 \n",
            "5*1= 5 5*2=10 5*3=15 5*4=20 5*5=25 5*6=30 5*7=35 5*8=40 5*9=45 \n",
            "6*1= 6 6*2=12 6*3=18 6*4=24 6*5=30 6*6=36 6*7=42 6*8=48 6*9=54 \n",
            "7*1= 7 7*2=14 7*3=21 7*4=28 7*5=35 7*6=42 7*7=49 7*8=56 7*9=63 \n",
            "8*1= 8 8*2=16 8*3=24 8*4=32 8*5=40 8*6=48 8*7=56 8*8=64 8*9=72 \n",
            "9*1= 9 9*2=18 9*3=27 9*4=36 9*5=45 9*6=54 9*7=63 9*8=72 9*9=81 \n"
          ]
        }
      ]
    },
    {
      "cell_type": "code",
      "execution_count": null,
      "metadata": {
        "colab": {
          "base_uri": "https://localhost:8080/"
        },
        "id": "mZyto_W-F2S8",
        "outputId": "87bc6f28-333e-46b1-ff6e-780892664f5c"
      },
      "outputs": [
        {
          "output_type": "stream",
          "name": "stdout",
          "text": [
            "請輸入a的值:4\n",
            "請輸入b的值:6\n",
            " 4 和 6 的最小公倍數= 12 \n"
          ]
        }
      ],
      "source": [
        "a=int(input(\"請輸入a的值:\"))\n",
        "b=int(input(\"請輸入b的值:\"))\n",
        "maxno=a*b\n",
        "for i in range(1,maxno+1):\n",
        "  if(i % a==0 and i % b==0):\n",
        "    break\n",
        "print(\" %d 和 %d 的最小公倍數= %d \" % (a,b,i))"
      ]
    },
    {
      "cell_type": "code",
      "source": [
        "n= int(input(\"請輸入整數:\"))\n",
        "for i in range(1,n+1):\n",
        "  if i % 5 ==0:\n",
        "    continue\n",
        "  print(i,end=\"\")"
      ],
      "metadata": {
        "colab": {
          "base_uri": "https://localhost:8080/"
        },
        "id": "bRuGCHagHPmv",
        "outputId": "5c6cf7e0-4420-4f84-9472-50634d40659c"
      },
      "execution_count": null,
      "outputs": [
        {
          "output_type": "stream",
          "name": "stdout",
          "text": [
            "請輸入整數:21\n",
            "12346789111213141617181921"
          ]
        }
      ]
    },
    {
      "cell_type": "code",
      "source": [
        "total=n=0\n",
        "while n<=10:\n",
        "  total+=n\n",
        "  n+=1\n",
        "print(total)"
      ],
      "metadata": {
        "colab": {
          "base_uri": "https://localhost:8080/"
        },
        "id": "BEdI07ojH9Za",
        "outputId": "8ead762c-7075-4c6b-eec1-4737b14505db"
      },
      "execution_count": null,
      "outputs": [
        {
          "output_type": "stream",
          "name": "stdout",
          "text": [
            "55\n"
          ]
        }
      ]
    },
    {
      "cell_type": "code",
      "source": [
        "total=i=1\n",
        "n=int(input(\"請輸入正整數n的值:\"))\n",
        "while i<=n:\n",
        "  total*=i\n",
        "  i+=1\n",
        "print(\" %d!=%d\" % (n,total))"
      ],
      "metadata": {
        "colab": {
          "base_uri": "https://localhost:8080/"
        },
        "id": "EUQEjJ8fLS0S",
        "outputId": "bc44a4d4-84dd-4421-eaf4-000b04838de0"
      },
      "execution_count": null,
      "outputs": [
        {
          "output_type": "stream",
          "name": "stdout",
          "text": [
            "請輸入正整數n的值:3\n",
            " 3!=6\n"
          ]
        }
      ]
    },
    {
      "cell_type": "code",
      "source": [
        "total1=0\n",
        "n=50\n",
        "while n>0:\n",
        "  total1+=n\n",
        "  n-=2\n",
        "print(\"0~50的偶數和結果是\",total1)\n",
        "total2=0\n",
        "n=49\n",
        "while n>0:\n",
        "  total2+=n\n",
        "  n-=2\n",
        "print(\"0~50的奇數和結果是\",total2)\n"
      ],
      "metadata": {
        "id": "R-PzR3tUNFdF",
        "colab": {
          "base_uri": "https://localhost:8080/"
        },
        "outputId": "27952df8-a9e7-4494-b32b-ececc6c2281b"
      },
      "execution_count": 14,
      "outputs": [
        {
          "output_type": "stream",
          "name": "stdout",
          "text": [
            "0~50的偶數和結果是 650\n",
            "0~50的奇數和結果是 625\n"
          ]
        }
      ]
    },
    {
      "cell_type": "code",
      "source": [
        "row = 1\n",
        "n=int(input(\"請輸入正整數:\"))\n",
        "while row <= n:\t\t\t\n",
        "    a = 1\n",
        "    cel = 1\n",
        "    while a<=n+1-row:\t\t\n",
        "        print('*',end='')\n",
        "        a +=1\n",
        "    while cel >row and cel < 5:\t\t\n",
        "        print(' ',end='')\n",
        "        cel += 1\n",
        "    print()\n",
        "    row += 1"
      ],
      "metadata": {
        "colab": {
          "base_uri": "https://localhost:8080/"
        },
        "id": "IzBlBY6255DX",
        "outputId": "2cddcce0-7df7-4f70-c46d-3cb937f46803"
      },
      "execution_count": 28,
      "outputs": [
        {
          "output_type": "stream",
          "name": "stdout",
          "text": [
            "請輸入正整數:7\n",
            "*******\n",
            "******\n",
            "*****\n",
            "****\n",
            "***\n",
            "**\n",
            "*\n"
          ]
        }
      ]
    },
    {
      "cell_type": "code",
      "source": [
        "c=0\n",
        "sum=0\n",
        "for i in range(0,100):\n",
        "  if i%3==0 or i%7==0:\n",
        "    c+=1\n",
        "    sum+=i\n",
        "print(\"數值1~100中,所有3或7倍數之總和=\",sum)"
      ],
      "metadata": {
        "colab": {
          "base_uri": "https://localhost:8080/"
        },
        "id": "IiK52qzv8tiO",
        "outputId": "b85684c6-914b-4f32-d0d2-db6df7295650"
      },
      "execution_count": 25,
      "outputs": [
        {
          "output_type": "stream",
          "name": "stdout",
          "text": [
            "數值1~100中,所有3或7倍數之總和= 2208\n"
          ]
        }
      ]
    },
    {
      "cell_type": "code",
      "source": [
        "num=int(input(\"請輸入正整數:\"))\n",
        "def print_factors(x):\n",
        "   print(x,\"的因數有:\")\n",
        "   for i in range(1, x+1):\n",
        "       if x % i == 0:\n",
        "           print(i)\n",
        "print_factors(num)\n",
        "a=[i]\n",
        "if len(a)==2:\n",
        "  print(num,\"是質數\")\n",
        "else:\n",
        "  print(num,\"不是質數\")\n"
      ],
      "metadata": {
        "colab": {
          "base_uri": "https://localhost:8080/"
        },
        "id": "OLHOk-Zl-2x4",
        "outputId": "e7d2122d-5f47-4eeb-db4d-cce48f6cf33d"
      },
      "execution_count": 39,
      "outputs": [
        {
          "output_type": "stream",
          "name": "stdout",
          "text": [
            "請輸入正整數:12\n",
            "12 的因數有:\n",
            "1\n",
            "2\n",
            "3\n",
            "4\n",
            "6\n",
            "12\n",
            "12 不是質數\n"
          ]
        }
      ]
    }
  ]
}