{
  "nbformat": 4,
  "nbformat_minor": 0,
  "metadata": {
    "colab": {
      "name": "0523.ipynb",
      "provenance": [],
      "authorship_tag": "ABX9TyPQDSuwdDCvVjvfFs1WB+fY",
      "include_colab_link": true
    },
    "kernelspec": {
      "name": "python3",
      "display_name": "Python 3"
    },
    "language_info": {
      "name": "python"
    }
  },
  "cells": [
    {
      "cell_type": "markdown",
      "metadata": {
        "id": "view-in-github",
        "colab_type": "text"
      },
      "source": [
        "<a href=\"https://colab.research.google.com/github/annie410577034/Introduction-to-Computers/blob/main/0523.ipynb\" target=\"_parent\"><img src=\"https://colab.research.google.com/assets/colab-badge.svg\" alt=\"Open In Colab\"/></a>"
      ]
    },
    {
      "cell_type": "code",
      "execution_count": null,
      "metadata": {
        "colab": {
          "base_uri": "https://localhost:8080/"
        },
        "id": "b62LKNkw_H6A",
        "outputId": "1afce684-8c04-43ee-8432-557b6aee1259"
      },
      "outputs": [
        {
          "output_type": "stream",
          "name": "stdout",
          "text": [
            "請輸入一個正整數:10\n",
            "1到 10 的整數和為 55\n"
          ]
        }
      ],
      "source": [
        "sum=0\n",
        "test=int(input(\"請輸入一個正整數:\"))\n",
        "for n in range(1,test+1):\n",
        "  sum=sum+n\n",
        "print(\"1到\",test,\"的整數和為\",sum)"
      ]
    },
    {
      "cell_type": "code",
      "source": [
        "sum=0\n",
        "test=int(input(\"請輸入一個正整數:\"))\n",
        "for m in range(1,test+1):\n",
        "  sum=sum+n\n",
        "  print(\"1到\",str(m),\"的整數和為\",sum)"
      ],
      "metadata": {
        "colab": {
          "base_uri": "https://localhost:8080/"
        },
        "id": "RfMXvpY6ABDE",
        "outputId": "cdc4b647-5745-4660-f599-ae34399ed448"
      },
      "execution_count": null,
      "outputs": [
        {
          "output_type": "stream",
          "name": "stdout",
          "text": [
            "請輸入一個正整數:10\n",
            "1到 1 的整數和為 1\n",
            "1到 2 的整數和為 2\n",
            "1到 3 的整數和為 3\n",
            "1到 4 的整數和為 4\n",
            "1到 5 的整數和為 5\n",
            "1到 6 的整數和為 6\n",
            "1到 7 的整數和為 7\n",
            "1到 8 的整數和為 8\n",
            "1到 9 的整數和為 9\n",
            "1到 10 的整數和為 10\n"
          ]
        }
      ]
    },
    {
      "cell_type": "code",
      "source": [
        "for j in range(1,5):\n",
        "  print(j)\n",
        "  for i in range(1,3):\n",
        "    k=i*j\n",
        "    print(j,\"*\",i,\"=\",k)"
      ],
      "metadata": {
        "colab": {
          "base_uri": "https://localhost:8080/"
        },
        "id": "BxwaEnr7CXrM",
        "outputId": "3c0848b3-dc95-4d07-de92-23ed298c6dcc"
      },
      "execution_count": null,
      "outputs": [
        {
          "output_type": "stream",
          "name": "stdout",
          "text": [
            "1\n",
            "1 * 1 = 1\n",
            "1 * 2 = 2\n",
            "2\n",
            "2 * 1 = 2\n",
            "2 * 2 = 4\n",
            "3\n",
            "3 * 1 = 3\n",
            "3 * 2 = 6\n",
            "4\n",
            "4 * 1 = 4\n",
            "4 * 2 = 8\n"
          ]
        }
      ]
    },
    {
      "cell_type": "code",
      "source": [
        "for n in range(1,10):\n",
        "  for m in range(1,10):\n",
        "    print(f\"{m}*{n}={n*m}\",end=\"\\t\")\n",
        "  print()"
      ],
      "metadata": {
        "id": "Rut-jBv_EICT"
      },
      "execution_count": null,
      "outputs": []
    },
    {
      "cell_type": "code",
      "source": [
        "for i in range(1,5):\n",
        "  if(i==4):\n",
        "    break\n",
        "  print(i,end=\" \") "
      ],
      "metadata": {
        "colab": {
          "base_uri": "https://localhost:8080/"
        },
        "id": "s6PZ9vFuEel-",
        "outputId": "3a04b7f5-cd23-451e-a85f-b1abce2168d5"
      },
      "execution_count": 1,
      "outputs": [
        {
          "output_type": "stream",
          "name": "stdout",
          "text": [
            "1 2 3 "
          ]
        }
      ]
    },
    {
      "cell_type": "code",
      "source": [
        "count=0\n",
        "for string in \"測試看看!\":\n",
        "  count+=1\n",
        "  if string==\"看\":\n",
        "    break\n",
        "  print(string)\n",
        "print(\"迴圈結束\")\n",
        "print(\"迴圈執行了 %d 次\" % count)\n"
      ],
      "metadata": {
        "colab": {
          "base_uri": "https://localhost:8080/"
        },
        "id": "1HRnqZ9oHEZR",
        "outputId": "b15e8d02-9169-4cd4-bd7b-e3cf82fb3ee1"
      },
      "execution_count": null,
      "outputs": [
        {
          "output_type": "stream",
          "name": "stdout",
          "text": [
            "測\n",
            "試\n",
            "迴圈結束\n",
            "迴圈執行了 3 次\n"
          ]
        }
      ]
    },
    {
      "cell_type": "code",
      "source": [
        "n1=int(input(\"請輸入a的值\"))\n",
        "n2=int(input(\"請輸入b的值\"))\n",
        "if n1>n2 :\n",
        "  c=n1\n",
        "else:\n",
        "  c=n2\n",
        "m=(n1+1)*(n2+1)\n",
        "for j in range(c,m):\n",
        "  if j % n1==0 and j % n2==0:\n",
        "    print(n1,\"和\",n2,\"最小公倍數為\",j)\n",
        "    break\n"
      ],
      "metadata": {
        "colab": {
          "base_uri": "https://localhost:8080/"
        },
        "id": "jyaXw_TGcIKI",
        "outputId": "ae456ed9-aa18-48d6-9e7a-73dfaf7d7e05"
      },
      "execution_count": 4,
      "outputs": [
        {
          "output_type": "stream",
          "name": "stdout",
          "text": [
            "請輸入a的值4\n",
            "請輸入b的值6\n",
            "4 和 6 最小公倍數為 12\n"
          ]
        }
      ]
    },
    {
      "cell_type": "code",
      "source": [
        "x=int(input(\"請輸入正整數\"))\n",
        "for string in range (0,x):\n",
        "  x+=1\n",
        "  if  string %5==0:\n",
        "    continue\n",
        "  print(string)\n",
        "\n",
        "\n",
        "\n",
        "\n",
        "\n",
        "\n",
        "\n",
        "\n"
      ],
      "metadata": {
        "colab": {
          "base_uri": "https://localhost:8080/"
        },
        "id": "axroJe-Fe9aa",
        "outputId": "a71c0d56-f5e2-42c1-c8e3-afc5a3e324a1"
      },
      "execution_count": 16,
      "outputs": [
        {
          "output_type": "stream",
          "name": "stdout",
          "text": [
            "請輸入正整數26\n",
            "1\n",
            "2\n",
            "3\n",
            "4\n",
            "6\n",
            "7\n",
            "8\n",
            "9\n",
            "11\n",
            "12\n",
            "13\n",
            "14\n",
            "16\n",
            "17\n",
            "18\n",
            "19\n",
            "21\n",
            "22\n",
            "23\n",
            "24\n",
            "26\n"
          ]
        }
      ]
    }
  ]
}